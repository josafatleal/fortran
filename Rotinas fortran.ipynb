{
 "cells": [
  {
   "cell_type": "code",
   "execution_count": 4,
   "metadata": {},
   "outputs": [
    {
     "ename": "ModuleNotFoundError",
     "evalue": "No module named 'SeismicProcess'",
     "output_type": "error",
     "traceback": [
      "\u001b[0;31m---------------------------------------------------------------------------\u001b[0m",
      "\u001b[0;31mModuleNotFoundError\u001b[0m                       Traceback (most recent call last)",
      "\u001b[0;32m<ipython-input-4-8b3622cb79d4>\u001b[0m in \u001b[0;36m<module>\u001b[0;34m()\u001b[0m\n\u001b[1;32m      2\u001b[0m \u001b[0;32mimport\u001b[0m \u001b[0mmatplotlib\u001b[0m\u001b[0;34m.\u001b[0m\u001b[0mpyplot\u001b[0m \u001b[0;32mas\u001b[0m \u001b[0mplt\u001b[0m\u001b[0;34m\u001b[0m\u001b[0m\n\u001b[1;32m      3\u001b[0m \u001b[0;32mimport\u001b[0m \u001b[0mseaborn\u001b[0m \u001b[0;32mas\u001b[0m \u001b[0msns\u001b[0m\u001b[0;34m\u001b[0m\u001b[0m\n\u001b[0;32m----> 4\u001b[0;31m \u001b[0;32mfrom\u001b[0m \u001b[0mSeismicProcess\u001b[0m \u001b[0;32mimport\u001b[0m \u001b[0msvd_power\u001b[0m\u001b[0;34m\u001b[0m\u001b[0m\n\u001b[0m",
      "\u001b[0;31mModuleNotFoundError\u001b[0m: No module named 'SeismicProcess'"
     ]
    }
   ],
   "source": [
    "import numpy as np\n",
    "import matplotlib.pyplot as plt\n",
    "import seaborn as sns\n",
    "from classeteste.ipynb import Seis"
   ]
  },
  {
   "cell_type": "markdown",
   "metadata": {},
   "source": [
    "Chamar SVD power\n",
    "\n",
    "subroutine svd_filt(nz,nx,lz,lx,D,Dfilt)\n",
    "        implicit none\n",
    "        integer         :: i,j,nz,nx,lz,lx\n",
    "        real            :: D(nz,nx),Daux(1-lz/2:nz+lz/2,1-lx/2:nx+lx/2),Dfilt(nz,nx),D1(lz,lx)\n",
    "                \n",
    "        Daux = 0.\n",
    "        Daux(1:nz,1:nx) = D\n",
    "\n",
    "        do j=1,nx\n",
    "                do i=1,nz\n",
    "                        call svd_power(lz,lx,Daux(i-lz/2:i+lz/2,j-lx/2:j+lx/2),D1)\n",
    "                        Dfilt(i,j)=D1(lz/2+1,lx/2+1)\n",
    "\n",
    "                end do        \n",
    "        end do\n",
    "\n",
    "        return\n",
    "\n",
    "        end subroutine       \n"
   ]
  },
  {
   "cell_type": "code",
   "execution_count": 49,
   "metadata": {},
   "outputs": [],
   "source": [
    "def svd_filt(Ns,nt,ls,lt,D):\n",
    "    \n",
    "    ax=np.zeros((ls,lt))\n",
    "    ax=ax.reshape(ls,lt)\n",
    "    aux=np.zeros((ls,lt))\n",
    "    aux=aux.reshape(ls,lt)\n",
    "    Dfilt=np.zeros((Ns,nt))\n",
    "    Dfilt=Dfilt.reshape(Ns,nt)\n",
    "    Daux=np.zeros((Ns+2*ls,nt+2*lt))\n",
    "    Daux=Daux.reshape(Ns+2*ls,nt+2*lt)\n",
    "    \n",
    "\n",
    "    \n",
    "    Daux[ls-1:ls+Ns-1,lt-1:lt+nt-1]=D\n",
    "    \n",
    "    j=0;i=0\n",
    "    while(i<Ns-1):\n",
    "        while(j<nt-1):                                    \n",
    "            aux=svd_power(ls,lt,Daux[i:i+ls,j:j+lt])\n",
    "            Dfilt[i,j]=aux[int(ls/2),int(lt/2)]\n",
    "            j+=1\n",
    "            \n",
    "        i+=1\n",
    "        \n",
    "       \n",
    "    \n",
    "    return Dfilt\n",
    "\n",
    "def svd_power(m,n,x):\n",
    "    \n",
    "    ninter_max=50\n",
    "    tol=10**-30\n",
    "      \n",
    "\n",
    "    Xn=np.zeros(m*n)\n",
    "    Xn=Xn.reshape(m,n)\n",
    "    \n",
    "    u=np.zeros(m);v=np.zeros(n)\n",
    "    \n",
    "    if((x*x).all==0):\n",
    "        Xn=0\n",
    "    else:\n",
    "        XTX=np.matmul(np.transpose(x),x)\n",
    "        xaux=np.ones(n)\n",
    "        w1=np.matmul(XTX,xaux)\n",
    "        Q0=np.dot(xaux,w1)\n",
    "        xaux=np.divide(w1,np.sqrt(Q0),where=np.sqrt(Q0)!=0)\n",
    "        \n",
    "    ikey=0\n",
    "    k=0\n",
    "    \n",
    "    while(ikey==0):\n",
    "        k=k+1\n",
    "        w1=np.matmul(XTX,xaux)\n",
    "        Q1=np.dot(xaux,w1)\n",
    "        xaux=w1/np.sqrt(Q1)\n",
    "        if(abs(Q1-Q0)<=tol or k==ninter_max):\n",
    "            ikey=1\n",
    "            Q0=Q1\n",
    "            \n",
    "    xx=np.dot(xaux,xaux)\n",
    "    slambda=np.divide(Q1,xx)\n",
    "    sigma=np.sqrt(slambda)\n",
    "    \n",
    "    v[0:n-1]=np.divide(xaux[0:n-1],np.sqrt(xx),where=np.sqrt(xx)!=0)\n",
    "    u=np.matmul(x,v)\n",
    "    \n",
    "    i=0\n",
    "    while(i<m):\n",
    "       \n",
    "        Xn[i,:]=np.multiply(v[:],u[i])  \n",
    "        i=i+1\n",
    "        \n",
    "\n",
    "    return Xn\n",
    "    "
   ]
  },
  {
   "cell_type": "markdown",
   "metadata": {},
   "source": [
    "Função SVD power method"
   ]
  },
  {
   "cell_type": "code",
   "execution_count": null,
   "metadata": {},
   "outputs": [],
   "source": []
  },
  {
   "cell_type": "code",
   "execution_count": 3,
   "metadata": {},
   "outputs": [],
   "source": [
    "m=100;n=100"
   ]
  },
  {
   "cell_type": "code",
   "execution_count": 4,
   "metadata": {},
   "outputs": [],
   "source": [
    "x=np.ones(m*n)"
   ]
  },
  {
   "cell_type": "code",
   "execution_count": 5,
   "metadata": {},
   "outputs": [],
   "source": [
    "x=x.reshape(m,n)"
   ]
  },
  {
   "cell_type": "code",
   "execution_count": 6,
   "metadata": {},
   "outputs": [
    {
     "data": {
      "text/plain": [
       "(100, 100)"
      ]
     },
     "execution_count": 6,
     "metadata": {},
     "output_type": "execute_result"
    }
   ],
   "source": [
    "x.shape"
   ]
  },
  {
   "cell_type": "code",
   "execution_count": 7,
   "metadata": {},
   "outputs": [],
   "source": [
    "x[10:30,:]=20; x[0:10,:]=0;x[89:99,:]=0;x[:,0:10]=0;x[:,89:100]=0"
   ]
  },
  {
   "cell_type": "code",
   "execution_count": 54,
   "metadata": {},
   "outputs": [
    {
     "data": {
      "text/plain": [
       "array([[nan, nan, nan, ..., nan, nan,  0.],\n",
       "       [ 0.,  0.,  0., ...,  0.,  0.,  0.],\n",
       "       [ 0.,  0.,  0., ...,  0.,  0.,  0.],\n",
       "       ...,\n",
       "       [ 0.,  0.,  0., ...,  0.,  0.,  0.],\n",
       "       [ 0.,  0.,  0., ...,  0.,  0.,  0.],\n",
       "       [ 0.,  0.,  0., ...,  0.,  0.,  0.]])"
      ]
     },
     "execution_count": 54,
     "metadata": {},
     "output_type": "execute_result"
    }
   ],
   "source": [
    "Xn"
   ]
  },
  {
   "cell_type": "code",
   "execution_count": 51,
   "metadata": {},
   "outputs": [],
   "source": [
    "Xn=svd_filt(m,n,3,3,x)"
   ]
  },
  {
   "cell_type": "code",
   "execution_count": 58,
   "metadata": {},
   "outputs": [
    {
     "data": {
      "text/plain": [
       "<matplotlib.axes._subplots.AxesSubplot at 0x7fa0983bdac8>"
      ]
     },
     "execution_count": 58,
     "metadata": {},
     "output_type": "execute_result"
    },
    {
     "data": {
      "image/png": "[encoded data removed]",
      "text/plain": [
       "<Figure size 720x720 with 2 Axes>"
      ]
     },
     "metadata": {},
     "output_type": "display_data"
    }
   ],
   "source": [
    "plt.figure(figsize=(10,10))\n",
    "sns.heatmap(x)"
   ]
  },
  {
   "cell_type": "code",
   "execution_count": null,
   "metadata": {
    "collapsed": true
   },
   "outputs": [],
   "source": [
    "int(x1)\n"
   ]
  },
  {
   "cell_type": "code",
   "execution_count": null,
   "metadata": {
    "collapsed": true
   },
   "outputs": [],
   "source": [
    "plt.figure(figsize=(10,10))\n",
    "sns.heatmap(Xn)"
   ]
  },
  {
   "cell_type": "code",
   "execution_count": null,
   "metadata": {
    "collapsed": true
   },
   "outputs": [],
   "source": [
    "a=x-x1"
   ]
  },
  {
   "cell_type": "code",
   "execution_count": null,
   "metadata": {
    "collapsed": true
   },
   "outputs": [],
   "source": [
    "plt.figure(figsize=(10,10))\n",
    "sns.heatmap(a)"
   ]
  },
  {
   "cell_type": "code",
   "execution_count": null,
   "metadata": {
    "collapsed": true
   },
   "outputs": [],
   "source": []
  },
  {
   "cell_type": "code",
   "execution_count": null,
   "metadata": {
    "collapsed": true
   },
   "outputs": [],
   "source": [
    "v=np.arange(1,10,1)"
   ]
  },
  {
   "cell_type": "code",
   "execution_count": null,
   "metadata": {
    "collapsed": true
   },
   "outputs": [],
   "source": [
    "v"
   ]
  },
  {
   "cell_type": "code",
   "execution_count": null,
   "metadata": {
    "collapsed": true
   },
   "outputs": [],
   "source": [
    "u=1\n"
   ]
  },
  {
   "cell_type": "code",
   "execution_count": null,
   "metadata": {
    "collapsed": true
   },
   "outputs": [],
   "source": [
    "Xn=Xn[1,:]*v[:]*u"
   ]
  },
  {
   "cell_type": "code",
   "execution_count": null,
   "metadata": {
    "collapsed": true
   },
   "outputs": [],
   "source": []
  }
 ],
 "metadata": {
  "@webio": {
   "lastCommId": null,
   "lastKernelId": null
  },
  "kernelspec": {
   "display_name": "Python 3",
   "language": "python",
   "name": "python3"
  },
  "language_info": {
   "codemirror_mode": {
    "name": "ipython",
    "version": 3
   },
   "file_extension": ".py",
   "mimetype": "text/x-python",
   "name": "python",
   "nbconvert_exporter": "python",
   "pygments_lexer": "ipython3",
   "version": "3.6.5"
  }
 },
 "nbformat": 4,
 "nbformat_minor": 2
}
