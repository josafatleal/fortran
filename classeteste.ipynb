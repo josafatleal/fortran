{
 "cells": [
  {
   "cell_type": "markdown",
   "metadata": {},
   "source": [
    "Classe SeismicProcess"
   ]
  },
  {
   "cell_type": "code",
   "execution_count": 42,
   "metadata": {},
   "outputs": [],
   "source": [
    "class Seismic(object):\n",
    "    \n",
    "    def __init__(self,Ns,Nt,data):\n",
    "        self.m=Ns\n",
    "        self.n=Nt\n",
    "        self.x=data\n",
    "    \n",
    "    def svd(self):\n",
    "    \n",
    "        ninter_max=50\n",
    "        tol=10**-30\n",
    "      \n",
    "        self.x=self.x.reshape(self.m,self.n)\n",
    "        Xn=np.zeros(self.m*self.n)\n",
    "        Xn=Xn.reshape(self.m,self.n)\n",
    "\n",
    "        u=np.zeros(self.m);v=np.zeros(self.n)\n",
    "\n",
    "        if((self.x*self.x).all==0):\n",
    "            Xn=0\n",
    "        else:\n",
    "            XTX=np.matmul(np.transpose(self.x),self.x)\n",
    "            xaux=np.ones(self.n)\n",
    "            w1=np.matmul(XTX,xaux)\n",
    "            Q0=np.dot(xaux,w1)\n",
    "            xaux=np.divide(w1,np.sqrt(Q0),where=np.sqrt(Q0)!=0)\n",
    "\n",
    "        ikey=0\n",
    "        k=0\n",
    "\n",
    "        while(ikey==0):\n",
    "            k=k+1\n",
    "            w1=np.matmul(XTX,xaux)\n",
    "            Q1=np.dot(xaux,w1)\n",
    "            xaux=w1/np.sqrt(Q1)\n",
    "            if(abs(Q1-Q0)<=tol or k==ninter_max):\n",
    "                ikey=1\n",
    "                Q0=Q1\n",
    "\n",
    "        xx=np.dot(xaux,xaux)\n",
    "        slambda=np.divide(Q1,xx)\n",
    "        sigma=np.sqrt(slambda)\n",
    "\n",
    "        v[0:self.n-1]=np.divide(xaux[0:self.n-1],np.sqrt(xx),where=np.sqrt(xx)!=0)\n",
    "        u=np.matmul(x,v)\n",
    "\n",
    "        i=0\n",
    "        while(i<self.m):\n",
    "\n",
    "            Xn[i,:]=np.multiply(v[:],u[i])  \n",
    "            i=i+1\n",
    "\n",
    "\n",
    "        return Xn\n",
    "    \n",
    "         \n",
    "    \n",
    "        "
   ]
  },
  {
   "cell_type": "code",
   "execution_count": 43,
   "metadata": {},
   "outputs": [],
   "source": [
    "x=Seismic(np.zeros(10*10),10,10)"
   ]
  },
  {
   "cell_type": "code",
   "execution_count": 45,
   "metadata": {},
   "outputs": [
    {
     "data": {
      "text/plain": [
       "<bound method Seismic.show of <__main__.Seismic object at 0x7f8438249cc0>>"
      ]
     },
     "execution_count": 45,
     "metadata": {},
     "output_type": "execute_result"
    }
   ],
   "source": []
  },
  {
   "cell_type": "code",
   "execution_count": 19,
   "metadata": {},
   "outputs": [
    {
     "data": {
      "text/plain": [
       "<bound method Seismic.svd of <__main__.Seismic object at 0x7f843822f748>>"
      ]
     },
     "execution_count": 19,
     "metadata": {},
     "output_type": "execute_result"
    }
   ],
   "source": [
    "x.svd\n"
   ]
  },
  {
   "cell_type": "code",
   "execution_count": 12,
   "metadata": {},
   "outputs": [
    {
     "data": {
      "text/plain": [
       "<bound method Seismic.svd of <__main__.Seismic object at 0x7f843823e6d8>>"
      ]
     },
     "execution_count": 12,
     "metadata": {},
     "output_type": "execute_result"
    }
   ],
   "source": []
  },
  {
   "cell_type": "code",
   "execution_count": null,
   "metadata": {},
   "outputs": [],
   "source": []
  }
 ],
 "metadata": {
  "kernelspec": {
   "display_name": "Python 3",
   "language": "python",
   "name": "python3"
  },
  "language_info": {
   "codemirror_mode": {
    "name": "ipython",
    "version": 3
   },
   "file_extension": ".py",
   "mimetype": "text/x-python",
   "name": "python",
   "nbconvert_exporter": "python",
   "pygments_lexer": "ipython3",
   "version": "3.6.5"
  }
 },
 "nbformat": 4,
 "nbformat_minor": 2
}
